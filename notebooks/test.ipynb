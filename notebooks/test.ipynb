{
 "cells": [
  {
   "cell_type": "code",
   "execution_count": null,
   "metadata": {
    "collapsed": true
   },
   "outputs": [],
   "source": [
    "import mne\n",
    "import numpy as np\n",
    "import matplotlib.pyplot as plt\n",
    "import seaborn as sns\n",
    "from closedloop.streamer_class import data_streamer"
   ]
  },
  {
   "cell_type": "code",
   "execution_count": null,
   "outputs": [],
   "source": [
    "RAW_DATA_FILE = '../resources/n1_raw.fif'\n",
    "RAW_EVE_FILE = '../resources/n1_eve.fif'\n",
    "\n",
    "CHANNELS = ['F4-C4','C4-A1']\n",
    "\n",
    "# Sampling Frequency 500 Hz"
   ],
   "metadata": {
    "collapsed": false
   }
  },
  {
   "cell_type": "code",
   "execution_count": null,
   "outputs": [],
   "source": [
    "raw = mne.io.read_raw_fif(RAW_DATA_FILE)\n",
    "events = mne.read_events(RAW_EVE_FILE)\n",
    "streamer: data_streamer = data_streamer(raw, events)\n",
    "streamer.chans_sel(CHANNELS)\n",
    "\n",
    "stages = streamer.staging()"
   ],
   "metadata": {
    "collapsed": false
   }
  },
  {
   "cell_type": "code",
   "execution_count": null,
   "outputs": [],
   "source": [
    "from closedloop.util import find_value_indices\n",
    "indices_n3 = find_value_indices(stages, 3)"
   ],
   "metadata": {
    "collapsed": false
   }
  },
  {
   "cell_type": "code",
   "execution_count": null,
   "outputs": [],
   "source": [
    "TIMESLICE = (8445000, 8445000 + 15000)\n",
    "hypno = stages[TIMESLICE[0]:TIMESLICE[1]]\n",
    "data_1 = raw.get_data(start=TIMESLICE[0], stop=TIMESLICE[1], picks=CHANNELS)[0] * 1e6\n",
    "data_2 = raw.get_data(start=TIMESLICE[0], stop=TIMESLICE[1], picks=CHANNELS)[1] * 1e6\n",
    "data = data_1 + data_2"
   ],
   "metadata": {
    "collapsed": false
   }
  },
  {
   "cell_type": "code",
   "execution_count": null,
   "outputs": [],
   "source": [
    "sf = 500.\n",
    "times = np.arange(data.size) / sf\n",
    "\n",
    "# Plot the signal\n",
    "fig, ax = plt.subplots(1, 1, figsize=(16, 4))\n",
    "plt.plot(times, data, lw=1.5, color='k')\n",
    "plt.xlabel('Time (seconds)')\n",
    "plt.ylabel('Amplitude (uV)')\n",
    "plt.xlim([times.min(), times.max()])\n",
    "plt.title('N3 sleep EEG data')\n",
    "sns.despine()"
   ],
   "metadata": {
    "collapsed": false
   }
  },
  {
   "cell_type": "code",
   "execution_count": null,
   "outputs": [],
   "source": [
    "from yasa import sw_detect\n",
    "\n",
    "# Short version\n",
    "# sw = sw_detect(data, sf, hypno=hypno)\n",
    "\n",
    "# Long version (with all the optional implicit arguments)\n",
    "sw = sw_detect(data, sf, hypno=hypno, include=(2, 3), freq_sw=(0.3, 1.5),\n",
    "               dur_neg=(0.3, 1.5), dur_pos=(0.1, 1.5), amp_neg=(40, 200),\n",
    "               amp_pos=(10, 150), amp_ptp=(75, 350), coupling=False,\n",
    "               remove_outliers=False, verbose=False)\n",
    "\n",
    "# To get the full detection dataframe, we use the .summary() method\n",
    "events = sw.summary()\n",
    "# sw_front.compare_detection(sw_central, other_is_groundtruth=True)\n",
    "events"
   ],
   "metadata": {
    "collapsed": false
   }
  },
  {
   "cell_type": "code",
   "execution_count": null,
   "outputs": [],
   "source": [
    "# Let's get a mask indicating for each sample\n",
    "mask = sw.get_mask()\n",
    "mask"
   ],
   "metadata": {
    "collapsed": false
   }
  },
  {
   "cell_type": "code",
   "execution_count": null,
   "outputs": [],
   "source": [
    "sw_highlight = data * mask\n",
    "sw_highlight[sw_highlight == 0] = np.nan\n",
    "\n",
    "plt.figure(figsize=(16, 4.5))\n",
    "\n",
    "plt.plot(times, data, 'k')\n",
    "plt.plot(times, sw_highlight, 'indianred')\n",
    "plt.plot(events['NegPeak'], sw_highlight[(events['NegPeak'] * sf).astype(int)], 'bo', label='Negative peaks')\n",
    "plt.plot(events['PosPeak'], sw_highlight[(events['PosPeak'] * sf).astype(int)], 'go', label='Positive peaks')\n",
    "plt.plot(events['Start'], data[(events['Start'] * sf).astype(int)], 'ro', label='Start')\n",
    "\n",
    "plt.xlabel('Time (seconds)')\n",
    "plt.ylabel('Amplitude (uV)')\n",
    "plt.xlim([0, times[-1]])\n",
    "plt.title('N3 sleep EEG data')\n",
    "plt.legend()\n",
    "sns.despine()"
   ],
   "metadata": {
    "collapsed": false
   }
  },
  {
   "cell_type": "code",
   "execution_count": null,
   "outputs": [],
   "source": [],
   "metadata": {
    "collapsed": false
   }
  }
 ],
 "metadata": {
  "kernelspec": {
   "display_name": "Python 3",
   "language": "python",
   "name": "python3"
  },
  "language_info": {
   "codemirror_mode": {
    "name": "ipython",
    "version": 2
   },
   "file_extension": ".py",
   "mimetype": "text/x-python",
   "name": "python",
   "nbconvert_exporter": "python",
   "pygments_lexer": "ipython2",
   "version": "2.7.6"
  }
 },
 "nbformat": 4,
 "nbformat_minor": 0
}
