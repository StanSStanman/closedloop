{
 "cells": [
  {
   "cell_type": "code",
   "execution_count": 1,
   "metadata": {},
   "outputs": [],
   "source": [
    "import os \n",
    "import os.path as op\n",
    "import math\n",
    "import numpy as np\n",
    "import mne\n",
    "import pandas as pd\n",
    "import xarray as xr\n",
    "import matplotlib.pyplot as plt\n",
    "%matplotlib qt"
   ]
  },
  {
   "cell_type": "code",
   "execution_count": 2,
   "metadata": {},
   "outputs": [
    {
     "name": "stderr",
     "output_type": "stream",
     "text": [
      "Gtk-Message: 21:49:00.677: Failed to load module \"canberra-gtk-module\"\n",
      "Gtk-Message: 21:49:00.677: Failed to load module \"canberra-gtk-module\"\n"
     ]
    }
   ],
   "source": [
    "subjects = ['n1', 'n2', 'n3', 'n4', 'n5', 'n10']\n",
    "path = '/home/jerry/python_projects/space/closedloop/test_data'\n",
    "raw_fname = op.join(path, '{0}_raw.fif')\n",
    "eve_fname = op.join(path, '{0}_eve.fif')"
   ]
  },
  {
   "cell_type": "code",
   "execution_count": 3,
   "metadata": {},
   "outputs": [
    {
     "name": "stdout",
     "output_type": "stream",
     "text": [
      "Opening raw data file /home/jerry/python_projects/space/closedloop/test_data/n1_raw.fif...\n",
      "    Range : 0 ... 17309999 =      0.000 ... 34619.998 secs\n",
      "Ready.\n",
      "<class 'mne.io.fiff.raw.Raw'>\n",
      "F2-F4\n",
      "<class 'NoneType'>\n"
     ]
    }
   ],
   "source": [
    "raw = mne.io.read_raw_fif(raw_fname.format(subjects[0]))\n",
    "print(type(raw))\n",
    "print(raw.ch_names[2])\n",
    "print(type(None))\n"
   ]
  },
  {
   "cell_type": "code",
   "execution_count": 4,
   "metadata": {},
   "outputs": [
    {
     "data": {
      "text/plain": [
       "['ROC-LOC',\n",
       " 'LOC-ROC',\n",
       " 'F2-F4',\n",
       " 'F4-C4',\n",
       " 'C4-P4',\n",
       " 'P4-O2',\n",
       " 'F1-F3',\n",
       " 'F3-C3',\n",
       " 'C3-P3',\n",
       " 'P3-O1',\n",
       " 'C4-A1',\n",
       " 'EMG1-EMG2',\n",
       " 'ECG1-ECG2',\n",
       " 'staging']"
      ]
     },
     "execution_count": 4,
     "metadata": {},
     "output_type": "execute_result"
    }
   ],
   "source": [
    "raw.ch_names"
   ]
  },
  {
   "cell_type": "code",
   "execution_count": 5,
   "metadata": {},
   "outputs": [
    {
     "name": "stdout",
     "output_type": "stream",
     "text": [
      "[[  270000        0        1]\n",
      " [  330000        0        2]\n",
      " [  375000        0        3]\n",
      " [  615000        0        2]\n",
      " [  645000        0        3]\n",
      " [ 2130000        0        2]\n",
      " [ 2370000        0        1]\n",
      " [ 2385000        0        2]\n",
      " [ 2700000        0        4]\n",
      " [ 3030000        0        2]\n",
      " [ 3360000        0        3]\n",
      " [ 3750000        0        0]\n",
      " [ 3840000        0        1]\n",
      " [ 3855000        0        2]\n",
      " [ 4320000        0        3]\n",
      " [ 5685000        0        2]\n",
      " [ 5745000        0        0]\n",
      " [ 5790000        0        1]\n",
      " [ 5835000        0        2]\n",
      " [ 6015000        0        4]\n",
      " [ 6765000        0        2]\n",
      " [ 7522500        0       -1]\n",
      " [ 7530000        0        1]\n",
      " [ 7560000        0        2]\n",
      " [ 7844000        0       -1]\n",
      " [ 7845000        0        1]\n",
      " [ 7860000        0        2]\n",
      " [ 8040000        0        3]\n",
      " [ 8385000        0        2]\n",
      " [ 8445000        0        3]\n",
      " [ 8925000        0        0]\n",
      " [ 8955000        0        1]\n",
      " [ 8985000        0        2]\n",
      " [ 9060000        0        4]\n",
      " [ 9735000        0        2]\n",
      " [10695000        0        0]\n",
      " [10755000        0        1]\n",
      " [10785000        0        2]\n",
      " [11790000        0        0]\n",
      " [11850000        0        1]\n",
      " [12015000        0        2]\n",
      " [12330000        0        4]\n",
      " [13170000        0        2]\n",
      " [13653000        0       -1]\n",
      " [13665000        0        2]\n",
      " [13815000        0        3]\n",
      " [13920000        0        2]\n",
      " [13995000        0        3]\n",
      " [14267000        0       -1]\n",
      " [14280000        0        2]\n",
      " [14430000        0        3]\n",
      " [14565000        0        2]\n",
      " [14655000        0        0]\n",
      " [14775000        0        1]\n",
      " [14850000        0        2]\n",
      " [15015000        0        4]\n",
      " [16005000        0        2]\n",
      " [17265000        0        1]\n",
      " [17280000        0        0]]\n"
     ]
    }
   ],
   "source": [
    "events = mne.read_events(eve_fname.format(subjects[0]))\n",
    "print(events)"
   ]
  },
  {
   "cell_type": "code",
   "execution_count": 11,
   "metadata": {},
   "outputs": [],
   "source": [
    "def data_streamer(raw_data, events, channels=None, stages=[2, 3], buffer_len=50.):\n",
    "    # Check function arguments are correct:\n",
    "    assert isinstance(raw_data, mne.io.fiff.raw.Raw), AssertionError('raw shoul \\\n",
    "                                                                be a mne.Raw \\\n",
    "                                                                object')\n",
    "    \n",
    "    if channels is None:\n",
    "        channels = raw_data.ch_names\n",
    "    elif isinstance(channels, list):\n",
    "        if all(isinstance(c, int) for c in channels):\n",
    "            channels = [raw_data.ch_names[c] for c in channels]\n",
    "        elif all(isinstance(c, str) for c in channels):\n",
    "            assert all(c in raw_data.ch_names for c in channels), AssertionError\n",
    "        else:\n",
    "            raise ValueError('Channels shoul be list of strings, \\\n",
    "                             list of int or None')\n",
    "    else:\n",
    "        raise ValueError('Channels shoul be list of strings, \\\n",
    "                             list of int or None')\n",
    "    \n",
    "    if isinstance(events, np.ndarray):\n",
    "        if not (events.ndim == 2 and events.shape[1] == 3):\n",
    "            raise ValueError('events should be a [n, 3] dimensional array')\n",
    "    else:\n",
    "        raise ValueError('events should be a [n, 3] dimensional array')\n",
    "\n",
    "    # Creating staging vector\n",
    "    staging = raw_data.pick(['staging'])\n",
    "    staging = staging.get_data()\n",
    "    ev_start = 0\n",
    "    for i, e in enumerate(events):\n",
    "        if i == 0:\n",
    "            staging[ev_start:e[0]] = staging[0]\n",
    "            ev_start = e[0]\n",
    "        elif i == len(events[0, :]):\n",
    "            staging[ev_start:len(staging)] = events[-1, -1]\n",
    "        else:\n",
    "            staging[ev_start:e[0]] = events[i - 1, -1]\n",
    "            ev_start = e[0]\n",
    "            \n",
    "    # Selecting desired channels (get rid of staging)\n",
    "    raw_data = raw_data.pick_channels(channels, ordered=True, verbose=False)\n",
    "    print('Keeping channels:', raw_data.ch_names)\n",
    "\n",
    "    # Computing buffer sample length \n",
    "    sfreq = raw_data.info['sfreq']\n",
    "    n_sample = int((sfreq / 1000) * buffer_len) # samples each ms * buffer ms\n",
    "    print('Number of samples in a buffer:', n_sample)\n",
    "\n",
    "    raw_data = xr.DataArray(raw_data.get_data(), \n",
    "                            coords=[raw_data.ch_names, staging], \n",
    "                            dims=['channel', 'stage'])\n",
    "    \n",
    "    s_start = int(0)\n",
    "    s_end = n_sample\n",
    "    s_steps = math.ceil(raw_data.shape[-1] / n_sample)\n",
    "    for s in range(s_steps):\n",
    "        chunk = raw_data[:, s_start:s_end]\n",
    "        if chunk.stage[0] not in stages:\n",
    "            xr.full_like(chunk, np.nan)\n",
    "\n",
    "        s_start += n_sample\n",
    "        s_end += n_sample\n",
    "\n",
    "        yield chunk\n",
    "    # # Loop over time \n",
    "    #     # Check if looping in the desired stage\n",
    "    #     # Chunk the data\n",
    "    #     # yield the data (generator)\n",
    "    # raw_tmax = raw.times[-1]\n",
    "    # tmin = 0.\n",
    "    # tmax = buffer_len / 1000\n",
    "    # tsteps = math.ceil(raw_tmax / tmax)\n",
    "    # tmin_sample = 0.\n",
    "    # for t in tsteps:\n",
    "\n",
    "\n",
    "\n"
   ]
  },
  {
   "cell_type": "code",
   "execution_count": 12,
   "metadata": {},
   "outputs": [],
   "source": [
    "chunk = data_streamer(raw, events, channels=['C4-A1'], stages=[2, 3], buffer_len=50.)"
   ]
  },
  {
   "cell_type": "code",
   "execution_count": 13,
   "metadata": {},
   "outputs": [],
   "source": [
    "collect = []\n",
    "collect.append(chunk)"
   ]
  },
  {
   "cell_type": "code",
   "execution_count": 14,
   "metadata": {},
   "outputs": [
    {
     "data": {
      "text/plain": [
       "[<generator object data_streamer at 0x7f2e7cad31b0>]"
      ]
     },
     "execution_count": 14,
     "metadata": {},
     "output_type": "execute_result"
    }
   ],
   "source": [
    "collect"
   ]
  },
  {
   "cell_type": "code",
   "execution_count": 15,
   "metadata": {},
   "outputs": [
    {
     "ename": "TypeError",
     "evalue": "'method' object is not subscriptable",
     "output_type": "error",
     "traceback": [
      "\u001b[0;31m---------------------------------------------------------------------------\u001b[0m",
      "\u001b[0;31mTypeError\u001b[0m                                 Traceback (most recent call last)",
      "\u001b[1;32m/home/jerry/python_projects/space/closedloop/notebooks/stream_data.ipynb Cell 10\u001b[0m line \u001b[0;36m1\n\u001b[0;32m----> <a href='vscode-notebook-cell:/home/jerry/python_projects/space/closedloop/notebooks/stream_data.ipynb#X14sZmlsZQ%3D%3D?line=0'>1</a>\u001b[0m \u001b[39mnext\u001b[39;49m(chunk)\n",
      "\u001b[1;32m/home/jerry/python_projects/space/closedloop/notebooks/stream_data.ipynb Cell 10\u001b[0m line \u001b[0;36m2\n\u001b[1;32m     <a href='vscode-notebook-cell:/home/jerry/python_projects/space/closedloop/notebooks/stream_data.ipynb#X14sZmlsZQ%3D%3D?line=24'>25</a>\u001b[0m     \u001b[39mraise\u001b[39;00m \u001b[39mValueError\u001b[39;00m(\u001b[39m'\u001b[39m\u001b[39mevents should be a [n, 3] dimensional array\u001b[39m\u001b[39m'\u001b[39m)\n\u001b[1;32m     <a href='vscode-notebook-cell:/home/jerry/python_projects/space/closedloop/notebooks/stream_data.ipynb#X14sZmlsZQ%3D%3D?line=26'>27</a>\u001b[0m \u001b[39m# Creating staging vector\u001b[39;00m\n\u001b[0;32m---> <a href='vscode-notebook-cell:/home/jerry/python_projects/space/closedloop/notebooks/stream_data.ipynb#X14sZmlsZQ%3D%3D?line=27'>28</a>\u001b[0m staging \u001b[39m=\u001b[39m raw_data\u001b[39m.\u001b[39;49mpick[[\u001b[39m'\u001b[39;49m\u001b[39mstaging\u001b[39;49m\u001b[39m'\u001b[39;49m]]\n\u001b[1;32m     <a href='vscode-notebook-cell:/home/jerry/python_projects/space/closedloop/notebooks/stream_data.ipynb#X14sZmlsZQ%3D%3D?line=28'>29</a>\u001b[0m staging \u001b[39m=\u001b[39m staging\u001b[39m.\u001b[39mget_data()\n\u001b[1;32m     <a href='vscode-notebook-cell:/home/jerry/python_projects/space/closedloop/notebooks/stream_data.ipynb#X14sZmlsZQ%3D%3D?line=29'>30</a>\u001b[0m ev_start \u001b[39m=\u001b[39m \u001b[39m0\u001b[39m\n",
      "\u001b[0;31mTypeError\u001b[0m: 'method' object is not subscriptable"
     ]
    }
   ],
   "source": [
    "next(chunk)"
   ]
  },
  {
   "cell_type": "code",
   "execution_count": null,
   "metadata": {},
   "outputs": [],
   "source": []
  }
 ],
 "metadata": {
  "kernelspec": {
   "display_name": "py310",
   "language": "python",
   "name": "python3"
  },
  "language_info": {
   "codemirror_mode": {
    "name": "ipython",
    "version": 3
   },
   "file_extension": ".py",
   "mimetype": "text/x-python",
   "name": "python",
   "nbconvert_exporter": "python",
   "pygments_lexer": "ipython3",
   "version": "3.10.8"
  }
 },
 "nbformat": 4,
 "nbformat_minor": 2
}
