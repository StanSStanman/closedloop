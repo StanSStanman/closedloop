{
 "cells": [
  {
   "cell_type": "markdown",
   "id": "c905c405",
   "metadata": {},
   "source": [
    "# Questo è un esempio"
   ]
  },
  {
   "cell_type": "markdown",
   "id": "a9005f12",
   "metadata": {},
   "source": [
    "## qui importiamo le librerie"
   ]
  },
  {
   "cell_type": "code",
   "execution_count": 1,
   "id": "922ad576",
   "metadata": {},
   "outputs": [],
   "source": [
    "import numpy as np"
   ]
  },
  {
   "cell_type": "markdown",
   "id": "b65eced3",
   "metadata": {},
   "source": [
    "## ora creiamo un vettore (array)"
   ]
  },
  {
   "cell_type": "code",
   "execution_count": 13,
   "id": "ac912226",
   "metadata": {},
   "outputs": [],
   "source": [
    "arr = np.random.uniform(0, 1, ())"
   ]
  },
  {
   "cell_type": "code",
   "execution_count": 15,
   "id": "f265cb7a",
   "metadata": {},
   "outputs": [
    {
     "data": {
      "text/plain": [
       "(100,)"
      ]
     },
     "execution_count": 15,
     "metadata": {},
     "output_type": "execute_result"
    }
   ],
   "source": [
    "arr.shape"
   ]
  },
  {
   "cell_type": "code",
   "execution_count": 41,
   "id": "4ddebb4b",
   "metadata": {},
   "outputs": [],
   "source": [
    "x = np.array([10.])"
   ]
  },
  {
   "cell_type": "code",
   "execution_count": 37,
   "id": "2ad766a9",
   "metadata": {},
   "outputs": [
    {
     "data": {
      "text/plain": [
       "numpy.float64"
      ]
     },
     "execution_count": 37,
     "metadata": {},
     "output_type": "execute_result"
    }
   ],
   "source": [
    "type(x[0])"
   ]
  },
  {
   "cell_type": "code",
   "execution_count": 38,
   "id": "26592abb",
   "metadata": {},
   "outputs": [],
   "source": [
    "x = x.astype('float32')"
   ]
  },
  {
   "cell_type": "code",
   "execution_count": 39,
   "id": "eeded6de",
   "metadata": {},
   "outputs": [
    {
     "data": {
      "text/plain": [
       "numpy.float32"
      ]
     },
     "execution_count": 39,
     "metadata": {},
     "output_type": "execute_result"
    }
   ],
   "source": [
    "type(x[0])"
   ]
  },
  {
   "cell_type": "code",
   "execution_count": 42,
   "id": "e3b05528",
   "metadata": {},
   "outputs": [
    {
     "data": {
      "text/plain": [
       "array([9.71225615, 3.32532414, 8.49985192, 0.8812741 , 5.34584645,\n",
       "       0.10803359, 5.94500455, 3.41029237, 0.38660455, 3.18010872,\n",
       "       3.87115625, 0.64077481, 9.29925327, 8.83542768, 5.84068853,\n",
       "       2.13495049, 0.23286107, 4.4205008 , 6.81796039, 4.83398139,\n",
       "       2.25696307, 1.57462616, 0.51106881, 1.71605707, 1.2765902 ,\n",
       "       5.19261649, 7.67446215, 6.79920703, 3.24388469, 2.74078415,\n",
       "       9.52642263, 8.98396738, 1.76910237, 7.24987031, 3.63409902,\n",
       "       4.12312371, 6.3973232 , 4.94462817, 9.51132951, 4.59000561,\n",
       "       1.94907971, 3.44366124, 8.31334248, 6.76980342, 3.48460561,\n",
       "       3.98088067, 1.16497458, 6.82094163, 8.63285842, 7.7194767 ,\n",
       "       0.68211222, 0.88815557, 3.3845354 , 6.99938039, 4.21305159,\n",
       "       4.8604845 , 1.33310416, 8.77710329, 4.04045941, 1.36310349,\n",
       "       0.29680232, 0.45233203, 7.84523267, 0.57293924, 0.22024505,\n",
       "       0.04345718, 9.01877255, 5.12078577, 6.24454116, 3.11308556,\n",
       "       4.20325682, 7.79536517, 3.01925623, 7.68836719, 3.23489677,\n",
       "       3.30245222, 6.02950011, 7.99251989, 8.47415531, 1.33371562,\n",
       "       2.16460493, 8.5525329 , 4.31082826, 3.49233265, 1.8153897 ,\n",
       "       5.69668428, 4.84522477, 5.71154472, 5.81845489, 9.44034482,\n",
       "       1.74521373, 3.55076593, 3.12137351, 2.58232998, 0.26803776,\n",
       "       8.04491436, 6.01840104, 2.58554448, 1.29712465, 7.4246764 ])"
      ]
     },
     "execution_count": 42,
     "metadata": {},
     "output_type": "execute_result"
    }
   ],
   "source": [
    "arr * x"
   ]
  },
  {
   "cell_type": "code",
   "execution_count": null,
   "id": "3b958b10",
   "metadata": {},
   "outputs": [],
   "source": []
  }
 ],
 "metadata": {
  "kernelspec": {
   "display_name": "Python 3 (ipykernel)",
   "language": "python",
   "name": "python3"
  },
  "language_info": {
   "codemirror_mode": {
    "name": "ipython",
    "version": 3
   },
   "file_extension": ".py",
   "mimetype": "text/x-python",
   "name": "python",
   "nbconvert_exporter": "python",
   "pygments_lexer": "ipython3",
   "version": "3.10.8"
  }
 },
 "nbformat": 4,
 "nbformat_minor": 5
}
